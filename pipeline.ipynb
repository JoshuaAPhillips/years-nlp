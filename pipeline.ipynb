{
 "cells": [
  {
   "cell_type": "markdown",
   "metadata": {},
   "source": [
    "# Pipeline for transforming docs with `Scikit-learn`"
   ]
  },
  {
   "cell_type": "markdown",
   "metadata": {},
   "source": [
    "## Instantiating transformer class"
   ]
  },
  {
   "cell_type": "code",
   "execution_count": 32,
   "metadata": {},
   "outputs": [
    {
     "name": "stderr",
     "output_type": "stream",
     "text": [
      "INFO:sentence_transformers.SentenceTransformer:Use pytorch device_name: mps\n",
      "INFO:sentence_transformers.SentenceTransformer:Load pretrained SentenceTransformer: sentence-transformers/all-MiniLM-L6-v2\n"
     ]
    }
   ],
   "source": [
    "from bertopic import BERTopic\n",
    "\n",
    "from sklearn.base import BaseEstimator, TransformerMixin\n",
    "from sklearn.pipeline import Pipeline\n",
    "from sklearn.datasets import fetch_20newsgroups\n",
    "\n",
    "import logging\n",
    "\n",
    "logging.basicConfig(level=logging.INFO)\n",
    "\n",
    "\"\"\"\n",
    "Defining initial BERTopic transformer class\n",
    "\"\"\"\n",
    "\n",
    "class BERTopicTransformer(BaseEstimator, TransformerMixin):\n",
    "  def __init__(self, nr_topics, verbose):\n",
    "    self.model = BERTopic(nr_topics=nr_topics, verbose=verbose) # readymade BERTopic model\n",
    "\n",
    "  def fit(self, X, y=None):\n",
    "    return self\n",
    "\n",
    "  def transform(self, X):\n",
    "    \"\"\"\n",
    "    1: Preprocesses text data\n",
    "    \"\"\"\n",
    "\n",
    "    import nltk\n",
    "    from nltk.tokenize import word_tokenize\n",
    "    from nltk.corpus import stopwords\n",
    "    from nltk.stem import WordNetLemmatizer\n",
    "\n",
    "    # turn text to lowercase tokens\n",
    "    logging.info(\"Preprocessing text data\")\n",
    "    text = X.lower()\n",
    "    tokens = word_tokenize(text)\n",
    "\n",
    "    # remove stopwords\n",
    "    logging.info(\"Removing stopwords\")\n",
    "    stop_words = set(stopwords.words('english'))\n",
    "    tokens = [word for word in tokens if word not in stop_words]\n",
    "\n",
    "    # lemmatize\n",
    "    logging.info(\"Lemmatizing\")\n",
    "    lemmatizer = WordNetLemmatizer()\n",
    "    filtered_tokens = [lemmatizer.lemmatize(word) for word in tokens]\n",
    "\n",
    "    # join tokens back into text\n",
    "    preprocessed_text = ' '.join(filtered_tokens)\n",
    "\n",
    "    \"\"\"\n",
    "    2. Reshaping data for BERTopic to consume\n",
    "    \"\"\"\n",
    "    doc_list = [preprocessed_text]\n",
    "    \n",
    "    \"\"\"\n",
    "    3. Applying BERTopic models\n",
    "    \"\"\"\n",
    "    logging.info(\"Applying BERTopic model\")\n",
    "    topics, probs = self.model.fit_transform(doc_list)\n",
    "    return topics, probs\n",
    "\n",
    "\"\"\"\n",
    "Wrapper class for BERTopic - for some reason this works but no idea why\n",
    "\"\"\"\n",
    "\n",
    "class BERTopicWrapper(BaseEstimator, TransformerMixin):\n",
    "  def __init__(self, model):\n",
    "    self.model = model\n",
    "\n",
    "  def fit(self, X, y=None):\n",
    "    self.model.fit(X)  # Call fit on the wrapped BERTopic model\n",
    "    return self\n",
    "\n",
    "  def transform(self, X):\n",
    "    topics, probs = self.model.transform(X)\n",
    "    return topics, probs\n",
    "\n",
    "\"\"\"\n",
    "Defining pipeline\n",
    "\"\"\"\n",
    "\n",
    "test_data = fetch_20newsgroups(subset='all',  remove=('headers', 'footers', 'quotes'))['data']\n",
    "\n",
    "topic_pipeline = Pipeline([\n",
    "    ('preprocess', BERTopicTransformer(nr_topics=3, verbose=True)),\n",
    "    ('model', BERTopicWrapper(BERTopic().fit(test_data)))  # Wrap and fit BERTopic\n",
    "])\n",
    "\n",
    "transformed_data = topic_pipeline.transform(test_data)\n"
   ]
  }
 ],
 "metadata": {
  "kernelspec": {
   "display_name": "venv",
   "language": "python",
   "name": "python3"
  },
  "language_info": {
   "codemirror_mode": {
    "name": "ipython",
    "version": 3
   },
   "file_extension": ".py",
   "mimetype": "text/x-python",
   "name": "python",
   "nbconvert_exporter": "python",
   "pygments_lexer": "ipython3",
   "version": "3.12.3"
  }
 },
 "nbformat": 4,
 "nbformat_minor": 2
}
