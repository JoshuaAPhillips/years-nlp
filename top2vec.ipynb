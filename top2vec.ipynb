{
 "cells": [
  {
   "cell_type": "code",
   "execution_count": 45,
   "metadata": {},
   "outputs": [
    {
     "ename": "NameError",
     "evalue": "name 'get_chunks' is not defined",
     "output_type": "error",
     "traceback": [
      "\u001b[0;31m---------------------------------------------------------------------------\u001b[0m",
      "\u001b[0;31mNameError\u001b[0m                                 Traceback (most recent call last)",
      "Cell \u001b[0;32mIn[45], line 21\u001b[0m\n\u001b[1;32m     18\u001b[0m     text \u001b[38;5;241m=\u001b[39m f\u001b[38;5;241m.\u001b[39mread()\u001b[38;5;241m.\u001b[39mreplace(\u001b[38;5;124m\"\u001b[39m\u001b[38;5;130;01m\\n\u001b[39;00m\u001b[38;5;124m\"\u001b[39m, \u001b[38;5;124m\"\u001b[39m\u001b[38;5;124m \u001b[39m\u001b[38;5;124m\"\u001b[39m)\n\u001b[1;32m     19\u001b[0m     documents\u001b[38;5;241m.\u001b[39mappend(text)\n\u001b[0;32m---> 21\u001b[0m documents \u001b[38;5;241m=\u001b[39m \u001b[43mget_chunks\u001b[49m(documents, \u001b[38;5;241m1000\u001b[39m)\n\u001b[1;32m     23\u001b[0m \u001b[38;5;66;03m# train the model\u001b[39;00m\n\u001b[1;32m     24\u001b[0m model \u001b[38;5;241m=\u001b[39m Top2Vec(documents, min_count\u001b[38;5;241m=\u001b[39m\u001b[38;5;241m2\u001b[39m, speed\u001b[38;5;241m=\u001b[39m\u001b[38;5;124m\"\u001b[39m\u001b[38;5;124mdeep-learn\u001b[39m\u001b[38;5;124m\"\u001b[39m, workers\u001b[38;5;241m=\u001b[39m\u001b[38;5;241m4\u001b[39m)\n",
      "\u001b[0;31mNameError\u001b[0m: name 'get_chunks' is not defined"
     ]
    }
   ],
   "source": [
    "# imports\n",
    "from top2vec import Top2Vec\n",
    "import pandas as pd\n",
    "import natsort\n",
    "import glob\n",
    "import os\n",
    "\n",
    "# documents\n",
    "df = pd.DataFrame(columns=[\"idno\", \"text\"])\n",
    "\n",
    "corpus_paths = glob.glob(\"data/e1_*.txt\")\n",
    "corpus_paths = natsort.natsorted(corpus_paths)\n",
    "\n",
    "documents = []\n",
    "\n",
    "for path in corpus_paths:\n",
    "  with open(path, \"r\") as f:\n",
    "    text = f.read().replace(\"\\n\", \" \")\n",
    "    documents.append(text)\n",
    "\n",
    "# train the model\n",
    "model = Top2Vec(documents, min_count=2, speed=\"deep-learn\", workers=4)\n",
    "model.save(\"top2vec_model\")"
   ]
  }
 ],
 "metadata": {
  "kernelspec": {
   "display_name": "base",
   "language": "python",
   "name": "python3"
  },
  "language_info": {
   "codemirror_mode": {
    "name": "ipython",
    "version": 3
   },
   "file_extension": ".py",
   "mimetype": "text/x-python",
   "name": "python",
   "nbconvert_exporter": "python",
   "pygments_lexer": "ipython3",
   "version": "3.11.8"
  }
 },
 "nbformat": 4,
 "nbformat_minor": 2
}
