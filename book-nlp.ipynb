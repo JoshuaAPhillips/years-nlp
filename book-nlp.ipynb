{
 "cells": [
  {
   "cell_type": "markdown",
   "metadata": {},
   "source": [
    "## BookNLP code for *The Years* ##\n",
    "\n",
    "This is a brain-dump for my Years secret sauce. A bit fancier than a REPL session and you can save stuff."
   ]
  },
  {
   "cell_type": "markdown",
   "metadata": {},
   "source": [
    "## Imports and Whatnot"
   ]
  },
  {
   "cell_type": "code",
   "execution_count": 1,
   "metadata": {},
   "outputs": [
    {
     "name": "stderr",
     "output_type": "stream",
     "text": [
      "/opt/anaconda3/envs/years-nlp/lib/python3.10/site-packages/tqdm/auto.py:21: TqdmWarning: IProgress not found. Please update jupyter and ipywidgets. See https://ipywidgets.readthedocs.io/en/stable/user_install.html\n",
      "  from .autonotebook import tqdm as notebook_tqdm\n"
     ]
    },
    {
     "name": "stdout",
     "output_type": "stream",
     "text": [
      "using device cpu\n"
     ]
    }
   ],
   "source": [
    "# imports\n",
    "import os\n",
    "import sys\n",
    "import glob\n",
    "\n",
    "from booknlp.booknlp import BookNLP"
   ]
  },
  {
   "cell_type": "markdown",
   "metadata": {},
   "source": [
    "## Initializing NLP Pipeline"
   ]
  },
  {
   "cell_type": "code",
   "execution_count": 2,
   "metadata": {},
   "outputs": [
    {
     "name": "stdout",
     "output_type": "stream",
     "text": [
      "{'pipeline': 'entity,quote,supersense,event,coref', 'model': 'big'}\n"
     ]
    },
    {
     "name": "stderr",
     "output_type": "stream",
     "text": [
      "/opt/anaconda3/envs/years-nlp/lib/python3.10/site-packages/huggingface_hub/file_download.py:1132: FutureWarning: `resume_download` is deprecated and will be removed in version 1.0.0. Downloads always resume when possible. If you want to force a new download, use `force_download=True`.\n",
      "  warnings.warn(\n"
     ]
    },
    {
     "name": "stdout",
     "output_type": "stream",
     "text": [
      "--- startup: 8.077 seconds ---\n",
      "--- spacy: 3.457 seconds ---\n",
      "--- entities: 22.390 seconds ---\n",
      "--- quotes: 0.026 seconds ---\n"
     ]
    }
   ],
   "source": [
    "# set model params\n",
    "model_params = {\n",
    "  'pipeline': 'entity,quote,supersense,event,coref',\n",
    "  'model': 'big'\n",
    "}\n",
    "\n",
    "booknlp = BookNLP(\"en\", model_params)\n",
    "\n",
    "# set import/export paths\n",
    "input_path = 'data/'\n",
    "input_files = glob.glob(input_path + 'e1_*.txt')\n",
    "\n",
    "# process files\n",
    "for file in input_files:\n",
    "  idd = os.path.basename(file).split('.')[0]\n",
    "  output_path = 'data/output/' + idd + '/'\n",
    "  booknlp.process(file, output_path, idd)\n"
   ]
  }
 ],
 "metadata": {
  "kernelspec": {
   "display_name": "venv",
   "language": "python",
   "name": "python3"
  },
  "language_info": {
   "codemirror_mode": {
    "name": "ipython",
    "version": 3
   },
   "file_extension": ".py",
   "mimetype": "text/x-python",
   "name": "python",
   "nbconvert_exporter": "python",
   "pygments_lexer": "ipython3",
   "version": "3.10.13"
  }
 },
 "nbformat": 4,
 "nbformat_minor": 2
}
